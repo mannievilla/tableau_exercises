{
 "cells": [
  {
   "cell_type": "code",
   "execution_count": 5,
   "metadata": {},
   "outputs": [],
   "source": [
    "import pandas as pd\n",
    "\n",
    "df = pd.read_csv('JC-202202-citibike-tripdata.csv')\n",
    "df1 = pd.read_csv('JC-202203-citibike-tripdata.csv')\n",
    "df2 = pd.read_csv('JC-202204-citibike-tripdata.csv')\n",
    "df3 = pd.read_csv('JC-202201-citibike-tripdata.csv')\n",
    "concat = pd.concat([df3, df, df1, df2], axis=0)\n",
    "concat\n",
    "\n",
    "\n",
    "concat.to_csv('tripdata.csv')"
   ]
  }
 ],
 "metadata": {
  "interpreter": {
   "hash": "4b59c59ffa898cafc6353530df0a2d92280349ba6f905366fbe547b090a0b211"
  },
  "kernelspec": {
   "display_name": "Python 3.9.7 ('base')",
   "language": "python",
   "name": "python3"
  },
  "language_info": {
   "codemirror_mode": {
    "name": "ipython",
    "version": 3
   },
   "file_extension": ".py",
   "mimetype": "text/x-python",
   "name": "python",
   "nbconvert_exporter": "python",
   "pygments_lexer": "ipython3",
   "version": "3.9.7"
  },
  "orig_nbformat": 4
 },
 "nbformat": 4,
 "nbformat_minor": 2
}
